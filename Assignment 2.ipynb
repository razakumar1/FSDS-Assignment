{
 "cells": [
  {
   "cell_type": "markdown",
   "id": "8eee6a2c",
   "metadata": {},
   "source": [
    "#ASSIGNMENT 02"
   ]
  },
  {
   "cell_type": "markdown",
   "id": "c6758ed0",
   "metadata": {},
   "source": [
    "#1. What are the two values of the Boolean data type? How do you write them?"
   ]
  },
  {
   "cell_type": "markdown",
   "id": "b9688446",
   "metadata": {},
   "source": [
    "The boolean data type has two values: True and False. Boolean values True and False start \n",
    "with the capital letters ( T ) and ( F )."
   ]
  },
  {
   "cell_type": "markdown",
   "id": "8c8f70f4",
   "metadata": {},
   "source": [
    "#2. What are the three different types of Boolean operators?"
   ]
  },
  {
   "cell_type": "markdown",
   "id": "da258d1c",
   "metadata": {},
   "source": [
    "There are three basic Boolean operators- \"and\" , \"or\" , and \"not\". They evaluate expressions \n",
    "down to Boolean values, returning either True or False.\n",
    "print((10 > 5) and (6 < 8))\t# Both original expressions are True\n",
    "print((8 == 8) or (6 != 6))\t# One original expression is True\n",
    "print(not(3 <= 1))\t\t\t# The original expression is False"
   ]
  },
  {
   "cell_type": "markdown",
   "id": "ba97a3ae",
   "metadata": {},
   "source": [
    "#3. Make a list of each Boolean operator's truth tables (i.e. every possible combination of Boolean values for the operator and what it evaluate )."
   ]
  },
  {
   "cell_type": "markdown",
   "id": "a7c41c08",
   "metadata": {},
   "source": [
    "#AND_Truth_Table-- \n",
    "[True\tand\tTrue] :\tTrue,\n",
    "[True\tand\tFalse]:\tFalse,\n",
    "[False\tand\tTrue]:\tFalse,\n",
    "[False\tand\tFalse]:\tFalse.\n",
    "#OR Truth Table--\n",
    "[True\tor\tTrue]:\tTrue,\n",
    "[True\tor\tFalse]:\tTrue,\n",
    "[False\tor\tTrue]:\tTrue,\n",
    "[False\tor\tFalse]:\tFalse.\n",
    "#NOT Truth Table--\n",
    "[not\tTrue] :\tFalse,\n",
    "[not\tFalse] :True."
   ]
  },
  {
   "cell_type": "markdown",
   "id": "8fc5688c",
   "metadata": {},
   "source": [
    "#4. What are the values of the following expressions?"
   ]
  },
  {
   "cell_type": "code",
   "execution_count": 1,
   "id": "782916e6",
   "metadata": {},
   "outputs": [
    {
     "data": {
      "text/plain": [
       "False"
      ]
     },
     "execution_count": 1,
     "metadata": {},
     "output_type": "execute_result"
    }
   ],
   "source": [
    "(5 > 4) and (3 == 5)"
   ]
  },
  {
   "cell_type": "markdown",
   "id": "7834a44e",
   "metadata": {},
   "source": [
    "True and False - False "
   ]
  },
  {
   "cell_type": "code",
   "execution_count": 2,
   "id": "bded45f2",
   "metadata": {},
   "outputs": [
    {
     "data": {
      "text/plain": [
       "False"
      ]
     },
     "execution_count": 2,
     "metadata": {},
     "output_type": "execute_result"
    }
   ],
   "source": [
    "not (5 > 4)"
   ]
  },
  {
   "cell_type": "markdown",
   "id": "56926f80",
   "metadata": {},
   "source": [
    "not(True) - False"
   ]
  },
  {
   "cell_type": "code",
   "execution_count": 3,
   "id": "aa8d7c07",
   "metadata": {},
   "outputs": [
    {
     "data": {
      "text/plain": [
       "True"
      ]
     },
     "execution_count": 3,
     "metadata": {},
     "output_type": "execute_result"
    }
   ],
   "source": [
    "(5 > 4) or (3 == 5)"
   ]
  },
  {
   "cell_type": "markdown",
   "id": "0b9b0c0e",
   "metadata": {},
   "source": [
    "True or False - True"
   ]
  },
  {
   "cell_type": "code",
   "execution_count": 4,
   "id": "63dffaaf",
   "metadata": {},
   "outputs": [
    {
     "data": {
      "text/plain": [
       "False"
      ]
     },
     "execution_count": 4,
     "metadata": {},
     "output_type": "execute_result"
    }
   ],
   "source": [
    "not ((5 > 4) or (3 == 5))"
   ]
  },
  {
   "cell_type": "markdown",
   "id": "b50ccd42",
   "metadata": {},
   "source": [
    "not(True or False)- not(True)- False"
   ]
  },
  {
   "cell_type": "code",
   "execution_count": 5,
   "id": "2e841d83",
   "metadata": {
    "scrolled": true
   },
   "outputs": [
    {
     "data": {
      "text/plain": [
       "False"
      ]
     },
     "execution_count": 5,
     "metadata": {},
     "output_type": "execute_result"
    }
   ],
   "source": [
    "(True and True) and (True == False)"
   ]
  },
  {
   "cell_type": "markdown",
   "id": "712e42e3",
   "metadata": {},
   "source": [
    "True and False - False"
   ]
  },
  {
   "cell_type": "code",
   "execution_count": 6,
   "id": "678ca566",
   "metadata": {},
   "outputs": [
    {
     "data": {
      "text/plain": [
       "True"
      ]
     },
     "execution_count": 6,
     "metadata": {},
     "output_type": "execute_result"
    }
   ],
   "source": [
    "(not False) or (not True)"
   ]
  },
  {
   "cell_type": "markdown",
   "id": "34623190",
   "metadata": {},
   "source": [
    "True or False - True"
   ]
  },
  {
   "cell_type": "markdown",
   "id": "e68d4634",
   "metadata": {},
   "source": [
    "#5. What are the six comparison operators?"
   ]
  },
  {
   "cell_type": "markdown",
   "id": "837b292a",
   "metadata": {},
   "source": [
    "Six Comparison Operators & its meaning\n",
    "[==\tEqual to ,\n",
    "!=\tNot equal to ,\n",
    "<\tLess than ,\n",
    ">\tGreater than ,\n",
    "<=\tLess than or equal to ,\n",
    ">=\tGreater than or equal to]"
   ]
  },
  {
   "cell_type": "markdown",
   "id": "473b84a0",
   "metadata": {},
   "source": [
    "#6. How do you tell the difference between the equal to and assignment operators?\n",
    "Describe a condition and when you would use one."
   ]
  },
  {
   "cell_type": "markdown",
   "id": "2a7c0c8f",
   "metadata": {},
   "source": [
    "\"==\" Equal to is a comparison operator whereas \"=\" is assignment operator. When there is a variable and we have \n",
    "to assign some data to it, we use single equal to sign\"=\" as assignment operator, But when we have to compare two \n",
    "variable or two data, we use double equal to sign\"==\"."
   ]
  },
  {
   "cell_type": "code",
   "execution_count": 9,
   "id": "fd67b621",
   "metadata": {},
   "outputs": [
    {
     "name": "stdout",
     "output_type": "stream",
     "text": [
      "Difference between 'the Equal Equal to' comparison operator &  'the Equal to' assignment operator\n"
     ]
    }
   ],
   "source": [
    "a=7\n",
    "if a==8:\n",
    "    print(\"Clarity of 'the Equal Equal to' comparison operator &  'the Equal to' assignment operator\")\n",
    "else:\n",
    "    print(\"Difference between 'the Equal Equal to' comparison operator &  'the Equal to' assignment operator\")"
   ]
  },
  {
   "cell_type": "markdown",
   "id": "0f275ed9",
   "metadata": {},
   "source": [
    "#7. Identify the three blocks in this code:"
   ]
  },
  {
   "cell_type": "code",
   "execution_count": 10,
   "id": "dd8bab6a",
   "metadata": {},
   "outputs": [
    {
     "ename": "IndentationError",
     "evalue": "expected an indented block (2373325787.py, line 3)",
     "output_type": "error",
     "traceback": [
      "\u001b[1;36m  Input \u001b[1;32mIn [10]\u001b[1;36m\u001b[0m\n\u001b[1;33m    print('eggs')\u001b[0m\n\u001b[1;37m    ^\u001b[0m\n\u001b[1;31mIndentationError\u001b[0m\u001b[1;31m:\u001b[0m expected an indented block\n"
     ]
    }
   ],
   "source": [
    "spam = 0\n",
    "if spam == 10:\n",
    "print('eggs')\n",
    "if spam > 5:\n",
    "print('bacon')\n",
    "else:\n",
    "print('ham')\n",
    "print('spam')\n",
    "print('spam')"
   ]
  },
  {
   "cell_type": "code",
   "execution_count": 11,
   "id": "9aabf2cd",
   "metadata": {},
   "outputs": [
    {
     "name": "stdout",
     "output_type": "stream",
     "text": [
      "ham\n",
      "spam\n",
      "spam\n"
     ]
    }
   ],
   "source": [
    "spam = 0\n",
    "if spam == 10:\n",
    "    print('eggs')\n",
    "if spam > 5:\n",
    "    print('bacon')\n",
    "else:\n",
    "    print('ham')\n",
    "    print('spam')\n",
    "    print('spam')"
   ]
  },
  {
   "cell_type": "markdown",
   "id": "99b06994",
   "metadata": {},
   "source": [
    "Block1[spam = 0\n",
    "if spam == 10:\n",
    "    print('eggs')], Block2[if spam > 5:\n",
    "    print('bacon')], Block3[else:\n",
    "    print('ham')\n",
    "    print('spam')\n",
    "    print('spam')]"
   ]
  },
  {
   "cell_type": "markdown",
   "id": "50eb93b5",
   "metadata": {},
   "source": [
    "#8. Write code that prints Hello if 1 is stored in spam, prints Howdy if 2 is stored in spam, and prints Greetings! if anything else is stored in spam.\n"
   ]
  },
  {
   "cell_type": "code",
   "execution_count": 21,
   "id": "2d8a1a67",
   "metadata": {},
   "outputs": [
    {
     "name": "stdout",
     "output_type": "stream",
     "text": [
      "Enter your number3\n",
      "Greeting!\n"
     ]
    }
   ],
   "source": [
    "spam=int(input('Enter your number'))\n",
    "if spam==1:\n",
    "    print('Hello')\n",
    "elif spam==2:\n",
    "    print('Howdy')\n",
    "else:\n",
    "    print('Greeting!')"
   ]
  },
  {
   "cell_type": "markdown",
   "id": "7844e48f",
   "metadata": {},
   "source": [
    "#9.If your programme is stuck in an endless loop, what keys you’ll press?"
   ]
  },
  {
   "cell_type": "markdown",
   "id": "defccf67",
   "metadata": {},
   "source": [
    "if programme is stuck in an endless loop then kernel can be Interrupted to end the loop or ctrl+C keys to stop a program stuck in an infinite loop."
   ]
  },
  {
   "cell_type": "markdown",
   "id": "0882ed32",
   "metadata": {},
   "source": [
    "#10. How can you tell the difference between break and continue?"
   ]
  },
  {
   "cell_type": "markdown",
   "id": "0a5a00fb",
   "metadata": {},
   "source": [
    "'break' is used for breaking the \"for\" or \"while\" loop when some particular condition is satisfied, Whereas 'continue' is used to drop a value in 'for' or 'while' loop when a particular condition is satisfied.\n",
    "\"break\" keyword terminates the execution of the current loop and passes the control over the next loop or main body,whereas when continue keyword is encountered, it skips the current iteration and executes the very next iteration in the loop."
   ]
  },
  {
   "cell_type": "markdown",
   "id": "e84340c1",
   "metadata": {},
   "source": [
    "#11. In a for loop, what is the difference between range(10), range(0, 10), and range(0, 10, 1)?"
   ]
  },
  {
   "cell_type": "markdown",
   "id": "2135e6a2",
   "metadata": {},
   "source": [
    "When we call range(10) with one argument, we'll get a series of numbers that starts at 0 and includes every whole number up to 10, but not including 10. When we call range(0,10) with two arguments, the series of numbers stops at 10 & starts from 0. When we call range(0,10,1) with three arguments, the series of numbers will starts from 0, stops at 10 and 1 is difference between one number and the next.                                             so,basically all three range will give same output."
   ]
  },
  {
   "cell_type": "markdown",
   "id": "635d8f30",
   "metadata": {},
   "source": [
    "#12. Write a short program that prints the numbers 1 to 10 using a for loop. \n",
    "Then write an equivalent program that prints the numbers 1 to 10 using a while loop."
   ]
  },
  {
   "cell_type": "code",
   "execution_count": 22,
   "id": "769ca01a",
   "metadata": {},
   "outputs": [
    {
     "name": "stdout",
     "output_type": "stream",
     "text": [
      "1\n",
      "2\n",
      "3\n",
      "4\n",
      "5\n",
      "6\n",
      "7\n",
      "8\n",
      "9\n",
      "10\n"
     ]
    }
   ],
   "source": [
    "for i in range(10):\n",
    "    print(i+1)"
   ]
  },
  {
   "cell_type": "code",
   "execution_count": 23,
   "id": "76ff8b23",
   "metadata": {},
   "outputs": [
    {
     "name": "stdout",
     "output_type": "stream",
     "text": [
      "1\n",
      "2\n",
      "3\n",
      "4\n",
      "5\n",
      "6\n",
      "7\n",
      "8\n",
      "9\n",
      "10\n"
     ]
    }
   ],
   "source": [
    "a=1\n",
    "while a<11:\n",
    "    print(a)\n",
    "    a += 1"
   ]
  },
  {
   "cell_type": "markdown",
   "id": "00162449",
   "metadata": {},
   "source": [
    "#13. If you had a function named bacon() inside a module named spam, how would you call it after importing spam?"
   ]
  },
  {
   "cell_type": "markdown",
   "id": "f706f648",
   "metadata": {},
   "source": [
    "spam.bacon()"
   ]
  }
 ],
 "metadata": {
  "kernelspec": {
   "display_name": "Python 3 (ipykernel)",
   "language": "python",
   "name": "python3"
  },
  "language_info": {
   "codemirror_mode": {
    "name": "ipython",
    "version": 3
   },
   "file_extension": ".py",
   "mimetype": "text/x-python",
   "name": "python",
   "nbconvert_exporter": "python",
   "pygments_lexer": "ipython3",
   "version": "3.9.12"
  }
 },
 "nbformat": 4,
 "nbformat_minor": 5
}
