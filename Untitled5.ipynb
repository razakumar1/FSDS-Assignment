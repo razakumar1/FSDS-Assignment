{
 "cells": [
  {
   "cell_type": "code",
   "execution_count": 1,
   "id": "5fcffe1c",
   "metadata": {},
   "outputs": [],
   "source": [
    "s=\"sudhanshu\"\n"
   ]
  },
  {
   "cell_type": "code",
   "execution_count": 3,
   "id": "3569eaa7",
   "metadata": {},
   "outputs": [
    {
     "name": "stdout",
     "output_type": "stream",
     "text": [
      "0\n",
      "1\n",
      "2\n",
      "3\n",
      "4\n",
      "5\n",
      "6\n",
      "7\n",
      "8\n",
      "9\n"
     ]
    }
   ],
   "source": [
    "for i in range(10):\n",
    "    print(i)"
   ]
  },
  {
   "cell_type": "code",
   "execution_count": 8,
   "id": "4f4990b6",
   "metadata": {},
   "outputs": [
    {
     "name": "stdout",
     "output_type": "stream",
     "text": [
      "Put Any Number5\n",
      "@ @ @ @ @ @ @ @ @ @ @ @ @ @ @ @ @ @ @ @ @ @ @ @ @ "
     ]
    }
   ],
   "source": [
    "n= int(input('Put Any Number'))\n",
    "for i in range (n):\n",
    "    for j in range(n):\n",
    "        print('@',end=' ')"
   ]
  },
  {
   "cell_type": "code",
   "execution_count": 6,
   "id": "287234e9",
   "metadata": {},
   "outputs": [
    {
     "name": "stdout",
     "output_type": "stream",
     "text": [
      "Put Any Number4\n",
      "@ @ @ @ \n",
      "@ @ @ @ \n",
      "@ @ @ @ \n",
      "@ @ @ @ \n"
     ]
    }
   ],
   "source": [
    "n= int(input('Put Any Number'))\n",
    "for i in range (n):\n",
    "    for j in range(n):\n",
    "        print('@',end=' ')\n",
    "    print()    \n",
    "        "
   ]
  },
  {
   "cell_type": "code",
   "execution_count": 7,
   "id": "98f5e062",
   "metadata": {},
   "outputs": [
    {
     "name": "stdout",
     "output_type": "stream",
     "text": [
      "Put Any Number3\n",
      "@ \n",
      "@ @ \n",
      "@ @ @ \n"
     ]
    }
   ],
   "source": [
    "n= int(input('Put Any Number'))\n",
    "for i in range (n):\n",
    "    for j in range(i+1):\n",
    "        print('@',end=' ')\n",
    "    print()    "
   ]
  },
  {
   "cell_type": "code",
   "execution_count": 11,
   "id": "28705601",
   "metadata": {},
   "outputs": [
    {
     "name": "stdout",
     "output_type": "stream",
     "text": [
      "Put Any Number8\n",
      "@ @ @ @ @ @ @ @ \n",
      "@ @ @ @ @ @ @ \n",
      "@ @ @ @ @ @ \n",
      "@ @ @ @ @ \n",
      "@ @ @ @ \n",
      "@ @ @ \n",
      "@ @ \n",
      "@ \n"
     ]
    }
   ],
   "source": [
    "n= int(input('Put Any Number'))\n",
    "for i in range (n):\n",
    "    for j in range(n-i):\n",
    "        print('@',end=' ')\n",
    "    print()  "
   ]
  },
  {
   "cell_type": "code",
   "execution_count": 16,
   "id": "418bbc17",
   "metadata": {},
   "outputs": [
    {
     "name": "stdout",
     "output_type": "stream",
     "text": [
      "Put Any Number4\n",
      "@ @ @ @ \n",
      "@ @ @ \n",
      "@ @ \n",
      "@ \n"
     ]
    }
   ],
   "source": [
    "n= int(input('Put Any Number'))\n",
    "for i in range (n):\n",
    "    for j in range(i,n):\n",
    "        print('@',end=' ')\n",
    "    print() "
   ]
  },
  {
   "cell_type": "markdown",
   "id": "65d8bab5",
   "metadata": {},
   "source": [
    "range(2,5) means 2,3 & 4 i.e. 03 places only, not row or column number"
   ]
  },
  {
   "cell_type": "code",
   "execution_count": 19,
   "id": "4501e6b0",
   "metadata": {},
   "outputs": [
    {
     "name": "stdout",
     "output_type": "stream",
     "text": [
      "          @ \n",
      "        @ @ \n",
      "      @ @ @ \n",
      "    @ @ @ @ \n",
      "  @ @ @ @ @ \n"
     ]
    }
   ],
   "source": [
    "n=5\n",
    "for i in range(n):\n",
    "    for j in range(n-i):\n",
    "        print(' ',end=' ')\n",
    "    for j in range(i+1):\n",
    "        print('@',end=' ')\n",
    "    print()    \n"
   ]
  },
  {
   "cell_type": "markdown",
   "id": "86b9fff8",
   "metadata": {},
   "source": [
    "It is very much clear that range gives number of items, not any certain location or cell or row number or index number."
   ]
  },
  {
   "cell_type": "code",
   "execution_count": 20,
   "id": "bdc4e487",
   "metadata": {},
   "outputs": [
    {
     "name": "stdout",
     "output_type": "stream",
     "text": [
      "@ @ @ @ @ \n",
      "  @ @ @ @ \n",
      "    @ @ @ \n",
      "      @ @ \n",
      "        @ \n"
     ]
    }
   ],
   "source": [
    "n=5\n",
    "for i in range(n):\n",
    "    for j in range(i):\n",
    "        print(' ',end=' ')\n",
    "    for j in range(n-i):\n",
    "        print('@',end=' ')\n",
    "    print() "
   ]
  },
  {
   "cell_type": "code",
   "execution_count": 21,
   "id": "e459b7e7",
   "metadata": {},
   "outputs": [
    {
     "name": "stdout",
     "output_type": "stream",
     "text": [
      "  @ @ @ @ @ \n",
      "    @ @ @ @ \n",
      "      @ @ @ \n",
      "        @ @ \n",
      "          @ \n"
     ]
    }
   ],
   "source": [
    "n=5\n",
    "for i in range(n):\n",
    "    for j in range(i+1):\n",
    "        print(' ',end=' ')\n",
    "    for j in range(i,n):\n",
    "        print('@',end=' ')\n",
    "    print()"
   ]
  },
  {
   "cell_type": "code",
   "execution_count": 27,
   "id": "36037519",
   "metadata": {},
   "outputs": [
    {
     "name": "stdout",
     "output_type": "stream",
     "text": [
      "          @ \n",
      "        @ @ @ \n",
      "      @ @ @ @ @ \n",
      "    @ @ @ @ @ @ @ \n",
      "  @ @ @ @ @ @ @ @ @ \n"
     ]
    }
   ],
   "source": [
    "n=5\n",
    "for i in range(n):\n",
    "    for j in range(i,n):\n",
    "        print(' ',end=' ')\n",
    "    for j in range(i+1):\n",
    "        print('@',end=' ')\n",
    "    for j in range(i): \n",
    "        print('@',end=' ')\n",
    "    print()"
   ]
  },
  {
   "cell_type": "code",
   "execution_count": 28,
   "id": "1c10aea2",
   "metadata": {},
   "outputs": [
    {
     "name": "stdout",
     "output_type": "stream",
     "text": [
      "          @ \n",
      "        @ @ @ \n",
      "      @ @ @ @ @ \n",
      "    @ @ @ @ @ @ @ \n",
      "  @ @ @ @ @ @ @ @ @ \n"
     ]
    }
   ],
   "source": [
    "n=5\n",
    "for i in range(n):\n",
    "    for j in range(i,n):\n",
    "        print(' ',end=' ')\n",
    "    for j in range(i):\n",
    "        print('@',end=' ')\n",
    "    for j in range(i+1): \n",
    "        print('@',end=' ')n=5\n",
    "for i in range(n):\n",
    "    for j in range(i,n):\n",
    "        print(' ',end=' ')\n",
    "    for j in range(i+1):\n",
    "        print('@',end=' ')\n",
    "    for j in range(i): \n",
    "        print('@',end=' ')\n",
    "    print()\n",
    "    print()"
   ]
  },
  {
   "cell_type": "code",
   "execution_count": 29,
   "id": "2b8fec5c",
   "metadata": {},
   "outputs": [
    {
     "name": "stdout",
     "output_type": "stream",
     "text": [
      "@ @ @ @ @ @ @ @ @ @ \n",
      "  @ @ @ @ @ @ @ @ \n",
      "    @ @ @ @ @ @ \n",
      "      @ @ @ @ \n",
      "        @ @ \n"
     ]
    }
   ],
   "source": [
    "n=5\n",
    "for i in range(n):\n",
    "    for j in range(i):\n",
    "        print(' ',end=' ')\n",
    "    for j in range(n-i):\n",
    "        print('@',end=' ')\n",
    "    for j in range(i,n): \n",
    "        print('@',end=' ')\n",
    "    print()"
   ]
  },
  {
   "cell_type": "code",
   "execution_count": 30,
   "id": "757db956",
   "metadata": {},
   "outputs": [
    {
     "name": "stdout",
     "output_type": "stream",
     "text": [
      "          @ \n",
      "        @ @ @ \n",
      "      @ @ @ @ @ \n",
      "    @ @ @ @ @ @ @ \n",
      "  @ @ @ @ @ @ @ @ @ \n",
      "@ @ @ @ @ @ @ @ @ @ \n",
      "  @ @ @ @ @ @ @ @ \n",
      "    @ @ @ @ @ @ \n",
      "      @ @ @ @ \n",
      "        @ @ \n"
     ]
    }
   ],
   "source": [
    "n=5\n",
    "for i in range(n):\n",
    "    for j in range(i,n):\n",
    "        print(' ',end=' ')\n",
    "    for j in range(i+1):\n",
    "        print('@',end=' ')\n",
    "    for j in range(i): \n",
    "        print('@',end=' ')\n",
    "    print()\n",
    "for i in range(n):\n",
    "    for j in range(i):\n",
    "        print(' ',end=' ')\n",
    "    for j in range(n-i):\n",
    "        print('@',end=' ')\n",
    "    for j in range(i,n): \n",
    "        print('@',end=' ')\n",
    "    print()    \n",
    "    "
   ]
  },
  {
   "cell_type": "code",
   "execution_count": null,
   "id": "c96a8c0c",
   "metadata": {},
   "outputs": [],
   "source": []
  }
 ],
 "metadata": {
  "kernelspec": {
   "display_name": "Python 3 (ipykernel)",
   "language": "python",
   "name": "python3"
  },
  "language_info": {
   "codemirror_mode": {
    "name": "ipython",
    "version": 3
   },
   "file_extension": ".py",
   "mimetype": "text/x-python",
   "name": "python",
   "nbconvert_exporter": "python",
   "pygments_lexer": "ipython3",
   "version": "3.9.12"
  }
 },
 "nbformat": 4,
 "nbformat_minor": 5
}
