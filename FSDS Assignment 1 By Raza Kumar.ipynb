{
 "cells": [
  {
   "cell_type": "markdown",
   "id": "7d6a8b55",
   "metadata": {},
   "source": [
    "# Assignment 1"
   ]
  },
  {
   "cell_type": "markdown",
   "id": "c5e27eab",
   "metadata": {},
   "source": [
    "#Answer-1\n",
    "\n",
    "'*' = expression\n",
    "\n",
    "'hello' = value\n",
    "\n",
    "-87.8 =  value\n",
    "\n",
    "'-' = expression\n",
    "\n",
    "'/' = expression\n",
    "\n",
    "'+'= expression\n",
    "\n",
    "6 = value"
   ]
  },
  {
   "cell_type": "markdown",
   "id": "ca2faae4",
   "metadata": {},
   "source": [
    "#Answer-2   \n",
    "\n",
    "String is a type of value or data which is assigned to any variable.It is a array of bytes representing unicode characters wrapped inside single, double or triple quotes and it is an immutable sequence data type whereas variables are reserved memory location to store values or a label that we can assign a value\n",
    "Example - a='6Apples'\n",
    "here 'a' is variable and its value is 6Appples which is string type value\n"
   ]
  },
  {
   "cell_type": "markdown",
   "id": "9c6d9c06",
   "metadata": {},
   "source": [
    "#Answer-3\n",
    "\n",
    "03 Data Types\n",
    "\n",
    "a) Integer - denoted by 'Int' - Any numerical value without decimal is integer data type.\n",
    "Example - a=9 -- here 9 is Integer type data\n",
    "b) String - denoted by 'str' - Any alphabet or alphanumeric charcater is string data type.\n",
    "Example - b= 'gh78ee' -- here gh78ee is string type data\n",
    "c)Float- denoted by 'float'- Any numeric value with decimal is float data type\n",
    "Example - c=9.0 -- here 9.0 is float type data"
   ]
  },
  {
   "cell_type": "markdown",
   "id": "004a5f5a",
   "metadata": {},
   "source": [
    "#Answer-4\n",
    "\n",
    "Expression consist of arithmetic, logical, relational etc operators with values or variables.\n",
    "Some of the following expressions are-\n",
    "a)Arithmetic Expression- These will perform function like subtraction, division etc\n",
    "b)logical expression- These will specify one or more condition and result in either True or False.\n",
    "c)Relational expression -These will do comparison as per relational operator and produce a boolean output in the result\n"
   ]
  },
  {
   "cell_type": "markdown",
   "id": "321f2ee2",
   "metadata": {},
   "source": [
    "#Answer-5\n",
    "\n",
    "Assignment statement \n",
    "spam = 10. Here we are assigning value 10 to a variable named as 'spam'.\n",
    "The expression is a line consist of arithmetic, logical, relational etc operators and operands like numerical values whereas statements are one or more line of code used to assign variable or check any particular condition"
   ]
  },
  {
   "cell_type": "markdown",
   "id": "83555ca3",
   "metadata": {},
   "source": [
    "#Answer-6"
   ]
  },
  {
   "cell_type": "code",
   "execution_count": 4,
   "id": "3d8e2472",
   "metadata": {},
   "outputs": [],
   "source": [
    "bacon=11\n",
    "\n"
   ]
  },
  {
   "cell_type": "code",
   "execution_count": 5,
   "id": "087c1743",
   "metadata": {},
   "outputs": [
    {
     "data": {
      "text/plain": [
       "12"
      ]
     },
     "execution_count": 5,
     "metadata": {},
     "output_type": "execute_result"
    }
   ],
   "source": [
    "bacon+1"
   ]
  },
  {
   "cell_type": "code",
   "execution_count": 6,
   "id": "bd2ed6eb",
   "metadata": {},
   "outputs": [
    {
     "data": {
      "text/plain": [
       "11"
      ]
     },
     "execution_count": 6,
     "metadata": {},
     "output_type": "execute_result"
    }
   ],
   "source": [
    "bacon"
   ]
  },
  {
   "cell_type": "markdown",
   "id": "5c3ed91f",
   "metadata": {},
   "source": [
    "After running code, still 'bacon' variable contains value 11"
   ]
  },
  {
   "cell_type": "markdown",
   "id": "d71008c1",
   "metadata": {},
   "source": [
    "#Answer-7"
   ]
  },
  {
   "cell_type": "code",
   "execution_count": 7,
   "id": "a1fc2e74",
   "metadata": {},
   "outputs": [
    {
     "data": {
      "text/plain": [
       "'spamspamspam'"
      ]
     },
     "execution_count": 7,
     "metadata": {},
     "output_type": "execute_result"
    }
   ],
   "source": [
    "'spam'+'spamspam'"
   ]
  },
  {
   "cell_type": "code",
   "execution_count": 8,
   "id": "86bdf75d",
   "metadata": {},
   "outputs": [
    {
     "data": {
      "text/plain": [
       "'spamspamspam'"
      ]
     },
     "execution_count": 8,
     "metadata": {},
     "output_type": "execute_result"
    }
   ],
   "source": [
    "'spam'*3"
   ]
  },
  {
   "cell_type": "markdown",
   "id": "7bfc65e0",
   "metadata": {},
   "source": [
    "#Answer-8\n",
    "\n",
    "eggs is a valid variable name but 100 is invalid because 100 is a literal & we cannot assign anything to literals.\n",
    "Variable name must start with letter or underscore."
   ]
  },
  {
   "cell_type": "markdown",
   "id": "073f35f2",
   "metadata": {},
   "source": [
    "#Answer-9 \n",
    "\n",
    "'int', 'float' and 'str' are 03 functions can used to get the integer, floating-point number, or string\n",
    "version of a value respectively.\n",
    "For Integer int() \n",
    "for Float - float() \n",
    "for string - str()"
   ]
  },
  {
   "cell_type": "markdown",
   "id": "6ad2696e",
   "metadata": {},
   "source": [
    "#Answer-10"
   ]
  },
  {
   "cell_type": "code",
   "execution_count": 1,
   "id": "9c17d07d",
   "metadata": {},
   "outputs": [
    {
     "ename": "TypeError",
     "evalue": "can only concatenate str (not \"int\") to str",
     "output_type": "error",
     "traceback": [
      "\u001b[1;31m---------------------------------------------------------------------------\u001b[0m",
      "\u001b[1;31mTypeError\u001b[0m                                 Traceback (most recent call last)",
      "Input \u001b[1;32mIn [1]\u001b[0m, in \u001b[0;36m<cell line: 1>\u001b[1;34m()\u001b[0m\n\u001b[1;32m----> 1\u001b[0m \u001b[38;5;124;43m'\u001b[39;49m\u001b[38;5;124;43mI have eaten\u001b[39;49m\u001b[38;5;124;43m'\u001b[39;49m\u001b[43m \u001b[49m\u001b[38;5;241;43m+\u001b[39;49m\u001b[43m \u001b[49m\u001b[38;5;241;43m99\u001b[39;49m \u001b[38;5;241m+\u001b[39m \u001b[38;5;124m'\u001b[39m\u001b[38;5;124mburritos\u001b[39m\u001b[38;5;124m'\u001b[39m\n",
      "\u001b[1;31mTypeError\u001b[0m: can only concatenate str (not \"int\") to str"
     ]
    }
   ],
   "source": [
    "'I have eaten' + 99 + 'burritos'"
   ]
  },
  {
   "cell_type": "markdown",
   "id": "edd0d200",
   "metadata": {},
   "source": [
    "\n",
    "\n",
    "'I have eaten' + 99 + 'burritos'\n",
    "This expression cause error because string and integer cannot be added or concatenate. For such opeartion, type of data must be same,otherwise 'Type error' will be occurred.\n",
    "To fix it, we will have to change type of integer 99 to string 99, i.e. '99'\n"
   ]
  },
  {
   "cell_type": "code",
   "execution_count": 2,
   "id": "623e15e5",
   "metadata": {},
   "outputs": [
    {
     "data": {
      "text/plain": [
       "'I have eaten99burritos'"
      ]
     },
     "execution_count": 2,
     "metadata": {},
     "output_type": "execute_result"
    }
   ],
   "source": [
    "'I have eaten' + str(99) + 'burritos'"
   ]
  },
  {
   "cell_type": "code",
   "execution_count": null,
   "id": "9e10a747",
   "metadata": {},
   "outputs": [],
   "source": []
  }
 ],
 "metadata": {
  "kernelspec": {
   "display_name": "Python 3 (ipykernel)",
   "language": "python",
   "name": "python3"
  },
  "language_info": {
   "codemirror_mode": {
    "name": "ipython",
    "version": 3
   },
   "file_extension": ".py",
   "mimetype": "text/x-python",
   "name": "python",
   "nbconvert_exporter": "python",
   "pygments_lexer": "ipython3",
   "version": "3.9.12"
  }
 },
 "nbformat": 4,
 "nbformat_minor": 5
}
