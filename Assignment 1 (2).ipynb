{
 "cells": [
  {
   "cell_type": "markdown",
   "id": "7d6a8b55",
   "metadata": {},
   "source": [
    "# Assignment 1"
   ]
  },
  {
   "cell_type": "markdown",
   "id": "c5e27eab",
   "metadata": {},
   "source": [
    "#Answer-1\n",
    "\n",
    "'*' = expression\n",
    "\n",
    "'hello' = value\n",
    "\n",
    "-87.8 =  value\n",
    "\n",
    "'-' = expression\n",
    "\n",
    "'/' = expression\n",
    "\n",
    "'+'= expression\n",
    "\n",
    "6 = value"
   ]
  },
  {
   "cell_type": "markdown",
   "id": "ca2faae4",
   "metadata": {},
   "source": [
    "#Answer-2   \n",
    "\n",
    "String is a type of value or data which is assigned to any variable whereas variables are locations where data or values are stored. \n",
    "Example - a='6Apples'\n",
    "here 'a' is variable and its value is 6Appples which is string type value\n"
   ]
  },
  {
   "cell_type": "markdown",
   "id": "9c6d9c06",
   "metadata": {},
   "source": [
    "#Answer-3\n",
    "\n",
    "03 Data Types \n",
    "a) Integer - denoted by 'Int' - Any numerical value without decimal is integer data type.\n",
    "Example - a=9 -- here 9 is Integer type data\n",
    "b) String - denoted by 'str' - Any alphabet or alphanumeric charcater is string data type.\n",
    "Example - b= 'gh78ee' -- here gh78ee is string type data\n",
    "c)Float- denoted by 'float'- Any numeric value with decimal is float data type\n",
    "Example - c=9.0 -- here 9.0 is float type data"
   ]
  },
  {
   "cell_type": "markdown",
   "id": "004a5f5a",
   "metadata": {},
   "source": [
    "#Answer-4\n",
    "\n",
    "Expression consist of arithmetic, logical, relational etc operators with values or variables.\n",
    "Some of the following expressions are-\n",
    "a)Arithmetic Expression- These will perform function like subtraction, division etc\n",
    "b)logical expression- These will specify one or more condition and result in either True or False.\n",
    "c)Relational expression -These will do comparison as per relational operator and produce a boolean output in the result\n"
   ]
  },
  {
   "cell_type": "markdown",
   "id": "321f2ee2",
   "metadata": {},
   "source": [
    "#Answer-5\n",
    "\n",
    "Assignment statement spam = 10. Here we are assigning value 10 to a variable named as 'spam'.\n",
    "The expression is a line consist of arithmetic, logical, relational etc operators and operands like numerical values whereas statements are line used to assign variable or check some condition"
   ]
  },
  {
   "cell_type": "markdown",
   "id": "83555ca3",
   "metadata": {},
   "source": [
    "#Answer-6"
   ]
  },
  {
   "cell_type": "code",
   "execution_count": 4,
   "id": "3d8e2472",
   "metadata": {},
   "outputs": [],
   "source": [
    "bacon=11\n",
    "\n"
   ]
  },
  {
   "cell_type": "code",
   "execution_count": 5,
   "id": "087c1743",
   "metadata": {},
   "outputs": [
    {
     "data": {
      "text/plain": [
       "12"
      ]
     },
     "execution_count": 5,
     "metadata": {},
     "output_type": "execute_result"
    }
   ],
   "source": [
    "bacon+1"
   ]
  },
  {
   "cell_type": "code",
   "execution_count": 6,
   "id": "bd2ed6eb",
   "metadata": {},
   "outputs": [
    {
     "data": {
      "text/plain": [
       "11"
      ]
     },
     "execution_count": 6,
     "metadata": {},
     "output_type": "execute_result"
    }
   ],
   "source": [
    "bacon"
   ]
  },
  {
   "cell_type": "markdown",
   "id": "5c3ed91f",
   "metadata": {},
   "source": [
    "After running code, still 'bacon' variable contains value 11"
   ]
  },
  {
   "cell_type": "markdown",
   "id": "d71008c1",
   "metadata": {},
   "source": [
    "#Answer-7"
   ]
  },
  {
   "cell_type": "code",
   "execution_count": 7,
   "id": "a1fc2e74",
   "metadata": {},
   "outputs": [
    {
     "data": {
      "text/plain": [
       "'spamspamspam'"
      ]
     },
     "execution_count": 7,
     "metadata": {},
     "output_type": "execute_result"
    }
   ],
   "source": [
    "'spam'+'spamspam'"
   ]
  },
  {
   "cell_type": "code",
   "execution_count": 8,
   "id": "86bdf75d",
   "metadata": {},
   "outputs": [
    {
     "data": {
      "text/plain": [
       "'spamspamspam'"
      ]
     },
     "execution_count": 8,
     "metadata": {},
     "output_type": "execute_result"
    }
   ],
   "source": [
    "'spam'*3"
   ]
  },
  {
   "cell_type": "markdown",
   "id": "7bfc65e0",
   "metadata": {},
   "source": [
    "#Answer-8\n",
    "\n",
    "eggs is a valid variable name but 100 is invalid because variable name must start with letter or underscore. Only number with starting underscore can be used as variable name"
   ]
  },
  {
   "cell_type": "markdown",
   "id": "073f35f2",
   "metadata": {},
   "source": [
    "#Answer-9 \n",
    "\n",
    "'int', 'float' and 'str' are 03 functions can used to get the integer, floating-point number, or string\n",
    "version of a value respectively"
   ]
  },
  {
   "cell_type": "markdown",
   "id": "edd0d200",
   "metadata": {},
   "source": [
    "#Answer-10\n",
    "\n",
    "'I have eaten' + 99 + 'burritos'\n",
    "This expression cause error because string and integer cannot be addedor concatenate. For such opeartion, type of data must be same,otherwise 'Type error' will be occurred.\n",
    "To fix it, we will have to change type of integer 99 to string 99, i.e. '99'\n"
   ]
  }
 ],
 "metadata": {
  "kernelspec": {
   "display_name": "Python 3 (ipykernel)",
   "language": "python",
   "name": "python3"
  },
  "language_info": {
   "codemirror_mode": {
    "name": "ipython",
    "version": 3
   },
   "file_extension": ".py",
   "mimetype": "text/x-python",
   "name": "python",
   "nbconvert_exporter": "python",
   "pygments_lexer": "ipython3",
   "version": "3.9.12"
  }
 },
 "nbformat": 4,
 "nbformat_minor": 5
}
