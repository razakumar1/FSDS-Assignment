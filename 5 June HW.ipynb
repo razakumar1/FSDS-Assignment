{
 "cells": [
  {
   "cell_type": "markdown",
   "id": "e25e8c37",
   "metadata": {},
   "source": [
    "Class Assignment 5th June"
   ]
  },
  {
   "cell_type": "markdown",
   "id": "126360ca",
   "metadata": {},
   "source": [
    "    q1 : Try to print a prime number in between 1 to 1000\n",
    "    q2 : Try to write a function which  is equivalent  to print function in python\n",
    "    q3 : Try to write a function which is a replica of list append , extend and pop function \n",
    "    q4 : Try to write a lambda function which can return a concatination of all the string that we will pass\n",
    "    q5 : Try to write a lambda function which can return list of square of all the data between 1-100 \n",
    "    q6 : Try to write a 10 Different different example of lambda function with a choice of your taks \n",
    "    q7 : Try to wwrite a funtion whihc can perform a read operation from .txt file "
   ]
  },
  {
   "cell_type": "markdown",
   "id": "1c492fa1",
   "metadata": {},
   "source": [
    "Answer 1"
   ]
  },
  {
   "cell_type": "code",
   "execution_count": 18,
   "id": "dba9da98",
   "metadata": {
    "scrolled": true
   },
   "outputs": [
    {
     "name": "stdout",
     "output_type": "stream",
     "text": [
      "[2, 3, 5, 7, 11, 13, 17, 19, 23, 29, 31, 37, 41, 43, 47, 53, 59, 61, 67, 71, 73, 79, 83, 89, 97, 101, 103, 107, 109, 113, 127, 131, 137, 139, 149, 151, 157, 163, 167, 173, 179, 181, 191, 193, 197, 199, 211, 223, 227, 229, 233, 239, 241, 251, 257, 263, 269, 271, 277, 281, 283, 293, 307, 311, 313, 317, 331, 337, 347, 349, 353, 359, 367, 373, 379, 383, 389, 397, 401, 409, 419, 421, 431, 433, 439, 443, 449, 457, 461, 463, 467, 479, 487, 491, 499, 503, 509, 521, 523, 541, 547, 557, 563, 569, 571, 577, 587, 593, 599, 601, 607, 613, 617, 619, 631, 641, 643, 647, 653, 659, 661, 673, 677, 683, 691, 701, 709, 719, 727, 733, 739, 743, 751, 757, 761, 769, 773, 787, 797, 809, 811, 821, 823, 827, 829, 839, 853, 857, 859, 863, 877, 881, 883, 887, 907, 911, 919, 929, 937, 941, 947, 953, 967, 971, 977, 983, 991, 997]\n"
     ]
    }
   ],
   "source": [
    "def q(x):\n",
    "    for n in range(2,x):\n",
    "        if x % n== 0:\n",
    "            return False\n",
    "            break\n",
    "    else:\n",
    "        return True\n",
    "prime=[]\n",
    "for i in range(2,1000):\n",
    "    if q(i)== True:\n",
    "        prime.append(i)\n",
    "print (prime)        \n"
   ]
  },
  {
   "cell_type": "markdown",
   "id": "91978a3a",
   "metadata": {},
   "source": [
    "Answer 2"
   ]
  },
  {
   "cell_type": "code",
   "execution_count": 15,
   "id": "28e636a7",
   "metadata": {},
   "outputs": [],
   "source": [
    "def p(x):\n",
    "    return x"
   ]
  },
  {
   "cell_type": "code",
   "execution_count": 17,
   "id": "c8389b5c",
   "metadata": {},
   "outputs": [
    {
     "data": {
      "text/plain": [
       "'hey there'"
      ]
     },
     "execution_count": 17,
     "metadata": {},
     "output_type": "execute_result"
    }
   ],
   "source": [
    "p('hey there')"
   ]
  },
  {
   "cell_type": "code",
   "execution_count": 19,
   "id": "7d7fc039",
   "metadata": {},
   "outputs": [
    {
     "data": {
      "text/plain": [
       "5"
      ]
     },
     "execution_count": 19,
     "metadata": {},
     "output_type": "execute_result"
    }
   ],
   "source": [
    "p(2+3)"
   ]
  },
  {
   "cell_type": "markdown",
   "id": "df9f8d21",
   "metadata": {},
   "source": [
    "Answer 3"
   ]
  },
  {
   "cell_type": "code",
   "execution_count": 212,
   "id": "361a81c9",
   "metadata": {},
   "outputs": [],
   "source": [
    "l=['old list']\n",
    "def ap(x):\n",
    "    print(l+x)       "
   ]
  },
  {
   "cell_type": "code",
   "execution_count": 213,
   "id": "997e5054",
   "metadata": {},
   "outputs": [
    {
     "name": "stdout",
     "output_type": "stream",
     "text": [
      "['old list', 'New item', 78]\n"
     ]
    }
   ],
   "source": [
    "t=['New item',78]\n",
    "ap(t)"
   ]
  },
  {
   "cell_type": "code",
   "execution_count": 216,
   "id": "5eed7fac",
   "metadata": {},
   "outputs": [],
   "source": [
    "def ext(x):\n",
    "    l=['old list']\n",
    "    for i in x:\n",
    "        return l+list(x)"
   ]
  },
  {
   "cell_type": "code",
   "execution_count": 217,
   "id": "76e6d546",
   "metadata": {},
   "outputs": [
    {
     "data": {
      "text/plain": [
       "['old list', 'r', 'a', 'z', 'a']"
      ]
     },
     "execution_count": 217,
     "metadata": {},
     "output_type": "execute_result"
    }
   ],
   "source": [
    "ext('raza')"
   ]
  },
  {
   "cell_type": "code",
   "execution_count": 79,
   "id": "21baffdb",
   "metadata": {},
   "outputs": [],
   "source": [
    "def po(x):\n",
    "    l=list(x)\n",
    "    for i in range(len(l)-1):\n",
    "        print(l[i])"
   ]
  },
  {
   "cell_type": "code",
   "execution_count": 81,
   "id": "d2a716ca",
   "metadata": {},
   "outputs": [
    {
     "name": "stdout",
     "output_type": "stream",
     "text": [
      "78\n",
      "90\n",
      "kj\n"
     ]
    }
   ],
   "source": [
    "t=[78,90,'kj',77]\n",
    "po(t)"
   ]
  },
  {
   "cell_type": "markdown",
   "id": "69ae5a40",
   "metadata": {},
   "source": [
    "Answer 4"
   ]
  },
  {
   "cell_type": "code",
   "execution_count": 235,
   "id": "94b22437",
   "metadata": {},
   "outputs": [],
   "source": [
    "a=''\n",
    "xyz= lambda *args : [a+i for i in args]\n"
   ]
  },
  {
   "cell_type": "code",
   "execution_count": 236,
   "id": "efb8f08e",
   "metadata": {},
   "outputs": [
    {
     "data": {
      "text/plain": [
       "['xy', 'cd', 'ab']"
      ]
     },
     "execution_count": 236,
     "metadata": {},
     "output_type": "execute_result"
    }
   ],
   "source": [
    "xyz('xy','cd','ab')"
   ]
  },
  {
   "cell_type": "code",
   "execution_count": 231,
   "id": "40f06fb1",
   "metadata": {},
   "outputs": [],
   "source": [
    "def concat(*x):\n",
    "    a=''\n",
    "    for i in x:\n",
    "        if type(i)==str:\n",
    "            a=a+i\n",
    "    return a        "
   ]
  },
  {
   "cell_type": "code",
   "execution_count": 219,
   "id": "ea3e7dda",
   "metadata": {},
   "outputs": [
    {
     "data": {
      "text/plain": [
       "'xycdab'"
      ]
     },
     "execution_count": 219,
     "metadata": {},
     "output_type": "execute_result"
    }
   ],
   "source": [
    "concat('xy','cd','ab',89)"
   ]
  },
  {
   "cell_type": "markdown",
   "id": "dfd38416",
   "metadata": {},
   "source": [
    "Answer 5"
   ]
  },
  {
   "cell_type": "code",
   "execution_count": 126,
   "id": "f5418bd7",
   "metadata": {},
   "outputs": [],
   "source": [
    "s= lambda n: [i*i for i in range(1,n)]"
   ]
  },
  {
   "cell_type": "code",
   "execution_count": 127,
   "id": "91df4e70",
   "metadata": {},
   "outputs": [
    {
     "data": {
      "text/plain": [
       "[1,\n",
       " 4,\n",
       " 9,\n",
       " 16,\n",
       " 25,\n",
       " 36,\n",
       " 49,\n",
       " 64,\n",
       " 81,\n",
       " 100,\n",
       " 121,\n",
       " 144,\n",
       " 169,\n",
       " 196,\n",
       " 225,\n",
       " 256,\n",
       " 289,\n",
       " 324,\n",
       " 361,\n",
       " 400,\n",
       " 441,\n",
       " 484,\n",
       " 529,\n",
       " 576,\n",
       " 625,\n",
       " 676,\n",
       " 729,\n",
       " 784,\n",
       " 841,\n",
       " 900,\n",
       " 961,\n",
       " 1024,\n",
       " 1089,\n",
       " 1156,\n",
       " 1225,\n",
       " 1296,\n",
       " 1369,\n",
       " 1444,\n",
       " 1521,\n",
       " 1600,\n",
       " 1681,\n",
       " 1764,\n",
       " 1849,\n",
       " 1936,\n",
       " 2025,\n",
       " 2116,\n",
       " 2209,\n",
       " 2304,\n",
       " 2401,\n",
       " 2500,\n",
       " 2601,\n",
       " 2704,\n",
       " 2809,\n",
       " 2916,\n",
       " 3025,\n",
       " 3136,\n",
       " 3249,\n",
       " 3364,\n",
       " 3481,\n",
       " 3600,\n",
       " 3721,\n",
       " 3844,\n",
       " 3969,\n",
       " 4096,\n",
       " 4225,\n",
       " 4356,\n",
       " 4489,\n",
       " 4624,\n",
       " 4761,\n",
       " 4900,\n",
       " 5041,\n",
       " 5184,\n",
       " 5329,\n",
       " 5476,\n",
       " 5625,\n",
       " 5776,\n",
       " 5929,\n",
       " 6084,\n",
       " 6241,\n",
       " 6400,\n",
       " 6561,\n",
       " 6724,\n",
       " 6889,\n",
       " 7056,\n",
       " 7225,\n",
       " 7396,\n",
       " 7569,\n",
       " 7744,\n",
       " 7921,\n",
       " 8100,\n",
       " 8281,\n",
       " 8464,\n",
       " 8649,\n",
       " 8836,\n",
       " 9025,\n",
       " 9216,\n",
       " 9409,\n",
       " 9604,\n",
       " 9801]"
      ]
     },
     "execution_count": 127,
     "metadata": {},
     "output_type": "execute_result"
    }
   ],
   "source": [
    "s(100)"
   ]
  },
  {
   "cell_type": "markdown",
   "id": "97580ed0",
   "metadata": {},
   "source": [
    "Answer 6\n"
   ]
  },
  {
   "cell_type": "code",
   "execution_count": 128,
   "id": "b05c765a",
   "metadata": {},
   "outputs": [],
   "source": [
    "a= lambda *x: x*2"
   ]
  },
  {
   "cell_type": "code",
   "execution_count": 129,
   "id": "9700ef3d",
   "metadata": {},
   "outputs": [
    {
     "data": {
      "text/plain": [
       "(True, 'Kumar', ['list'], 90, True, 'Kumar', ['list'], 90)"
      ]
     },
     "execution_count": 129,
     "metadata": {},
     "output_type": "execute_result"
    }
   ],
   "source": [
    "a(True,'Kumar',['list'],90)"
   ]
  },
  {
   "cell_type": "code",
   "execution_count": 131,
   "id": "f2d42592",
   "metadata": {},
   "outputs": [],
   "source": [
    "b= lambda *x: [i**3 for i in x]"
   ]
  },
  {
   "cell_type": "code",
   "execution_count": 132,
   "id": "dbdd5c81",
   "metadata": {},
   "outputs": [
    {
     "data": {
      "text/plain": [
       "[27, 64, 125, 216]"
      ]
     },
     "execution_count": 132,
     "metadata": {},
     "output_type": "execute_result"
    }
   ],
   "source": [
    "b(3,4,5,6)"
   ]
  },
  {
   "cell_type": "code",
   "execution_count": 133,
   "id": "a475f8c3",
   "metadata": {},
   "outputs": [],
   "source": [
    "c=lambda **kwargs: kwargs"
   ]
  },
  {
   "cell_type": "code",
   "execution_count": 134,
   "id": "39358411",
   "metadata": {},
   "outputs": [
    {
     "data": {
      "text/plain": [
       "{'a': 1, 'b': 2, 'g': 7, 'h': 'Hii'}"
      ]
     },
     "execution_count": 134,
     "metadata": {},
     "output_type": "execute_result"
    }
   ],
   "source": [
    "c(a=1,b=2,g=7,h='Hii')"
   ]
  },
  {
   "cell_type": "code",
   "execution_count": 150,
   "id": "62b5fd57",
   "metadata": {},
   "outputs": [],
   "source": [
    "d=lambda a,b,*m: a,b"
   ]
  },
  {
   "cell_type": "code",
   "execution_count": 151,
   "id": "5db93bbe",
   "metadata": {},
   "outputs": [
    {
     "ename": "TypeError",
     "evalue": "'tuple' object is not callable",
     "output_type": "error",
     "traceback": [
      "\u001b[1;31m---------------------------------------------------------------------------\u001b[0m",
      "\u001b[1;31mTypeError\u001b[0m                                 Traceback (most recent call last)",
      "Input \u001b[1;32mIn [151]\u001b[0m, in \u001b[0;36m<cell line: 1>\u001b[1;34m()\u001b[0m\n\u001b[1;32m----> 1\u001b[0m \u001b[43md\u001b[49m\u001b[43m(\u001b[49m\u001b[38;5;241;43m4\u001b[39;49m\u001b[43m,\u001b[49m\u001b[38;5;241;43m8\u001b[39;49m\u001b[43m,\u001b[49m\u001b[38;5;241;43m89\u001b[39;49m\u001b[43m,\u001b[49m\u001b[38;5;241;43m35\u001b[39;49m\u001b[43m,\u001b[49m\u001b[38;5;241;43m29\u001b[39;49m\u001b[43m,\u001b[49m\u001b[38;5;124;43m'\u001b[39;49m\u001b[38;5;124;43mdu\u001b[39;49m\u001b[38;5;124;43m'\u001b[39;49m\u001b[43m,\u001b[49m\u001b[38;5;124;43m'\u001b[39;49m\u001b[38;5;124;43mop\u001b[39;49m\u001b[38;5;124;43m'\u001b[39;49m\u001b[43m)\u001b[49m\n",
      "\u001b[1;31mTypeError\u001b[0m: 'tuple' object is not callable"
     ]
    }
   ],
   "source": [
    "d(4,8,89,35,29,'du','op')"
   ]
  },
  {
   "cell_type": "code",
   "execution_count": 153,
   "id": "9af0bdb8",
   "metadata": {},
   "outputs": [],
   "source": [
    "e= lambda *x: [i for i in x if i%2==0]"
   ]
  },
  {
   "cell_type": "code",
   "execution_count": 154,
   "id": "8891e9d8",
   "metadata": {},
   "outputs": [
    {
     "data": {
      "text/plain": [
       "[8, 78]"
      ]
     },
     "execution_count": 154,
     "metadata": {},
     "output_type": "execute_result"
    }
   ],
   "source": [
    "e(7,8,9,78,67)"
   ]
  },
  {
   "cell_type": "code",
   "execution_count": 157,
   "id": "7443bfcb",
   "metadata": {},
   "outputs": [],
   "source": [
    "f= lambda n: ['* '*(i+1) for i in range(n)]"
   ]
  },
  {
   "cell_type": "code",
   "execution_count": 158,
   "id": "175c86a8",
   "metadata": {},
   "outputs": [
    {
     "data": {
      "text/plain": [
       "['* ', '* * ', '* * * ', '* * * * ', '* * * * * ']"
      ]
     },
     "execution_count": 158,
     "metadata": {},
     "output_type": "execute_result"
    }
   ],
   "source": [
    "f(5)"
   ]
  },
  {
   "cell_type": "code",
   "execution_count": 175,
   "id": "0da71b54",
   "metadata": {},
   "outputs": [],
   "source": [
    "g=lambda *c: [i for i in c if type(i)==str ]"
   ]
  },
  {
   "cell_type": "code",
   "execution_count": 176,
   "id": "fcbcdb90",
   "metadata": {},
   "outputs": [
    {
     "data": {
      "text/plain": [
       "['uio', 'Yes']"
      ]
     },
     "execution_count": 176,
     "metadata": {},
     "output_type": "execute_result"
    }
   ],
   "source": [
    "g(78,True,'uio',67,'Yes')"
   ]
  },
  {
   "cell_type": "code",
   "execution_count": 180,
   "id": "3152cdad",
   "metadata": {},
   "outputs": [],
   "source": [
    "h=lambda *c: [c, type(c)]"
   ]
  },
  {
   "cell_type": "code",
   "execution_count": 181,
   "id": "a53df0e4",
   "metadata": {},
   "outputs": [
    {
     "data": {
      "text/plain": [
       "[(78, 'op'), tuple]"
      ]
     },
     "execution_count": 181,
     "metadata": {},
     "output_type": "execute_result"
    }
   ],
   "source": [
    "h(78,'op')"
   ]
  },
  {
   "cell_type": "code",
   "execution_count": 185,
   "id": "3ce8acfb",
   "metadata": {},
   "outputs": [],
   "source": [
    "i=lambda k,l,*m: k+l+m"
   ]
  },
  {
   "cell_type": "code",
   "execution_count": 186,
   "id": "cca8292b",
   "metadata": {},
   "outputs": [
    {
     "ename": "TypeError",
     "evalue": "unsupported operand type(s) for +: 'int' and 'tuple'",
     "output_type": "error",
     "traceback": [
      "\u001b[1;31m---------------------------------------------------------------------------\u001b[0m",
      "\u001b[1;31mTypeError\u001b[0m                                 Traceback (most recent call last)",
      "Input \u001b[1;32mIn [186]\u001b[0m, in \u001b[0;36m<cell line: 1>\u001b[1;34m()\u001b[0m\n\u001b[1;32m----> 1\u001b[0m \u001b[43mi\u001b[49m\u001b[43m(\u001b[49m\u001b[38;5;241;43m6\u001b[39;49m\u001b[43m,\u001b[49m\u001b[38;5;241;43m9\u001b[39;49m\u001b[43m,\u001b[49m\u001b[38;5;241;43m8\u001b[39;49m\u001b[43m)\u001b[49m\n",
      "Input \u001b[1;32mIn [185]\u001b[0m, in \u001b[0;36m<lambda>\u001b[1;34m(k, l, *m)\u001b[0m\n\u001b[1;32m----> 1\u001b[0m i\u001b[38;5;241m=\u001b[39m\u001b[38;5;28;01mlambda\u001b[39;00m k,l,\u001b[38;5;241m*\u001b[39mm: \u001b[43mk\u001b[49m\u001b[38;5;241;43m+\u001b[39;49m\u001b[43ml\u001b[49m\u001b[38;5;241;43m+\u001b[39;49m\u001b[43mm\u001b[49m\n",
      "\u001b[1;31mTypeError\u001b[0m: unsupported operand type(s) for +: 'int' and 'tuple'"
     ]
    }
   ],
   "source": [
    "i(6,9,8)"
   ]
  },
  {
   "cell_type": "code",
   "execution_count": 198,
   "id": "febbf97e",
   "metadata": {},
   "outputs": [
    {
     "data": {
      "text/plain": [
       "'abc'"
      ]
     },
     "execution_count": 198,
     "metadata": {},
     "output_type": "execute_result"
    }
   ],
   "source": [
    "i('a','b','c')"
   ]
  },
  {
   "cell_type": "code",
   "execution_count": 191,
   "id": "afc2e874",
   "metadata": {},
   "outputs": [],
   "source": [
    "i=lambda k,l,m: k+l+m "
   ]
  },
  {
   "cell_type": "code",
   "execution_count": 192,
   "id": "b2762f81",
   "metadata": {},
   "outputs": [
    {
     "data": {
      "text/plain": [
       "24"
      ]
     },
     "execution_count": 192,
     "metadata": {},
     "output_type": "execute_result"
    }
   ],
   "source": [
    "i(9,8,7)"
   ]
  },
  {
   "cell_type": "code",
   "execution_count": 193,
   "id": "60bc46d8",
   "metadata": {},
   "outputs": [
    {
     "data": {
      "text/plain": [
       "'abc'"
      ]
     },
     "execution_count": 193,
     "metadata": {},
     "output_type": "execute_result"
    }
   ],
   "source": [
    "i('a','b','c')"
   ]
  },
  {
   "cell_type": "code",
   "execution_count": 196,
   "id": "c67dbfdc",
   "metadata": {},
   "outputs": [],
   "source": [
    "j= lambda **r: list(r.values())  "
   ]
  },
  {
   "cell_type": "code",
   "execution_count": 197,
   "id": "b84bad0b",
   "metadata": {},
   "outputs": [
    {
     "data": {
      "text/plain": [
       "[9, 90, 'io']"
      ]
     },
     "execution_count": 197,
     "metadata": {},
     "output_type": "execute_result"
    }
   ],
   "source": [
    "j(n=9,u=90,h='io')"
   ]
  },
  {
   "cell_type": "markdown",
   "id": "3566d54a",
   "metadata": {},
   "source": [
    "Answer 7"
   ]
  },
  {
   "cell_type": "markdown",
   "id": "47b1c495",
   "metadata": {},
   "source": [
    "Try to write a funtion which can perform a read operation from .txt file "
   ]
  }
 ],
 "metadata": {
  "kernelspec": {
   "display_name": "Python 3 (ipykernel)",
   "language": "python",
   "name": "python3"
  },
  "language_info": {
   "codemirror_mode": {
    "name": "ipython",
    "version": 3
   },
   "file_extension": ".py",
   "mimetype": "text/x-python",
   "name": "python",
   "nbconvert_exporter": "python",
   "pygments_lexer": "ipython3",
   "version": "3.9.12"
  }
 },
 "nbformat": 4,
 "nbformat_minor": 5
}
