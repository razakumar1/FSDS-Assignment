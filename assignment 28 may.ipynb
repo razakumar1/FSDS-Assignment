{
 "cells": [
  {
   "cell_type": "markdown",
   "id": "f5586940",
   "metadata": {},
   "source": [
    "#Assignement"
   ]
  },
  {
   "cell_type": "markdown",
   "id": "2b44a6e4",
   "metadata": {},
   "source": [
    "Question Nos 1"
   ]
  },
  {
   "cell_type": "code",
   "execution_count": 29,
   "id": "69d29a0d",
   "metadata": {},
   "outputs": [
    {
     "name": "stdout",
     "output_type": "stream",
     "text": [
      "ineuron \n",
      "ineuron ineuron \n",
      "ineuron ineuron ineuron \n"
     ]
    }
   ],
   "source": [
    "n=4\n",
    "for i in range(n):\n",
    "    for j in range(i+1):\n",
    "        print('ineuron',end=' ')\n",
    "    print()\n",
    "   "
   ]
  },
  {
   "cell_type": "markdown",
   "id": "b8c128d8",
   "metadata": {},
   "source": [
    "Question Nos 2\n"
   ]
  },
  {
   "cell_type": "code",
   "execution_count": 28,
   "id": "d08ba19f",
   "metadata": {},
   "outputs": [
    {
     "name": "stdout",
     "output_type": "stream",
     "text": [
      "              ineuron \n",
      "         ineuron     ineuron \n",
      "    ineuron     ineuron     ineuron \n",
      "         ineuron     ineuron \n",
      "              ineuron \n"
     ]
    }
   ],
   "source": [
    "n=5\n",
    "for i in range(n):\n",
    "    if i<n//2:\n",
    "        for j in range(2-i):\n",
    "            print('    ',end=' ')\n",
    "        for j in range(i+1):\n",
    "            print('    ineuron',end=' ')\n",
    "        print()\n",
    "    else:\n",
    "        for j in range(i-2):\n",
    "            print('    ',end=' ')\n",
    "        for j in range(n-i):\n",
    "            print('    ineuron',end=' ')\n",
    "        print()    "
   ]
  },
  {
   "cell_type": "markdown",
   "id": "599e3364",
   "metadata": {},
   "source": [
    "Question 3"
   ]
  },
  {
   "cell_type": "code",
   "execution_count": 88,
   "id": "e0451191",
   "metadata": {},
   "outputs": [],
   "source": [
    "l=[[1,2,3,4],(2,3,4,5,6),(3,4,5,6,7),{23,4,5,45,4,4,5,45,45,4,5},{'k1':'sudh','k2':'ineuron','k3':'kumar',3:6,7:8},['ineuron','datascience']]"
   ]
  },
  {
   "cell_type": "markdown",
   "id": "1efeb43e",
   "metadata": {},
   "source": [
    "list entity"
   ]
  },
  {
   "cell_type": "code",
   "execution_count": 50,
   "id": "4be4362b",
   "metadata": {},
   "outputs": [
    {
     "name": "stdout",
     "output_type": "stream",
     "text": [
      "[1, 2, 3, 4]\n",
      "['ineuron', 'datascience']\n"
     ]
    }
   ],
   "source": [
    "for i in l:\n",
    "    if type(i)==list:\n",
    "        print(i)"
   ]
  },
  {
   "cell_type": "markdown",
   "id": "dd68f9b9",
   "metadata": {},
   "source": [
    "Question 4"
   ]
  },
  {
   "cell_type": "code",
   "execution_count": 34,
   "id": "2e832121",
   "metadata": {},
   "outputs": [
    {
     "name": "stdout",
     "output_type": "stream",
     "text": [
      "{'k1': 'sudh', 'k2': 'ineuron', 'k3': 'kumar', 3: 6, 7: 8}\n"
     ]
    }
   ],
   "source": [
    "for i in l:\n",
    "    if type(i)==dict:\n",
    "        print(i)"
   ]
  },
  {
   "cell_type": "markdown",
   "id": "abd92405",
   "metadata": {},
   "source": [
    "Question 5"
   ]
  },
  {
   "cell_type": "code",
   "execution_count": 39,
   "id": "066089cf",
   "metadata": {},
   "outputs": [
    {
     "name": "stdout",
     "output_type": "stream",
     "text": [
      "(2, 3, 4, 5, 6)\n",
      "(3, 4, 5, 6, 7)\n"
     ]
    }
   ],
   "source": [
    "for i in l:\n",
    "    if type(i)==tuple:\n",
    "        print(i)"
   ]
  },
  {
   "cell_type": "markdown",
   "id": "0f6bb2bb",
   "metadata": {},
   "source": [
    "Question 6"
   ]
  },
  {
   "cell_type": "code",
   "execution_count": 40,
   "id": "a5e7dc03",
   "metadata": {},
   "outputs": [
    {
     "name": "stdout",
     "output_type": "stream",
     "text": [
      "1\n",
      "2\n",
      "3\n",
      "4\n",
      "2\n",
      "3\n",
      "4\n",
      "5\n",
      "6\n",
      "3\n",
      "4\n",
      "5\n",
      "6\n",
      "7\n",
      "5\n",
      "4\n",
      "45\n",
      "23\n",
      "3\n",
      "6\n",
      "7\n",
      "8\n"
     ]
    }
   ],
   "source": [
    "for i in l:\n",
    "    if type(i)==list or type(i)==tuple or type(i)== set:\n",
    "        for j in i:\n",
    "            if type(j)==int:\n",
    "                print(j)\n",
    "    if type(i)==dict:\n",
    "        for k,v in i.items():\n",
    "            if type(k)==int or type(v)==int:\n",
    "                print(k)\n",
    "                print(v)"
   ]
  },
  {
   "cell_type": "markdown",
   "id": "4014e712",
   "metadata": {},
   "source": [
    "Answer 7"
   ]
  },
  {
   "cell_type": "code",
   "execution_count": 57,
   "id": "93836ab2",
   "metadata": {},
   "outputs": [
    {
     "name": "stdout",
     "output_type": "stream",
     "text": [
      "156\n"
     ]
    }
   ],
   "source": [
    "l4=[]\n",
    "for i in l:\n",
    "    if type(i)==list or type(i)==tuple or type(i)== set:\n",
    "        for j in i:\n",
    "            if type(j)==int:\n",
    "                l4.append(j)\n",
    "    if type(i)==dict:\n",
    "        for k,v in i.items():\n",
    "            if type(k)==int or type(v)==int:\n",
    "                l4.append(k)\n",
    "                l4.append(v)\n",
    "total=0\n",
    "for i in range(len(l4)):\n",
    "    total= total + l4[i]\n",
    "print(total)    "
   ]
  },
  {
   "cell_type": "markdown",
   "id": "dbe90e37",
   "metadata": {},
   "source": [
    "Answer 8"
   ]
  },
  {
   "cell_type": "code",
   "execution_count": 50,
   "id": "bb073243",
   "metadata": {},
   "outputs": [
    {
     "name": "stdout",
     "output_type": "stream",
     "text": [
      "1\n",
      "3\n"
     ]
    }
   ],
   "source": [
    "for i in l:\n",
    "    if type(i)==list:\n",
    "        for j in i:\n",
    "            if type(j)==int and j%2!=0:\n",
    "                print(j)\n",
    "   "
   ]
  },
  {
   "cell_type": "markdown",
   "id": "7c5c2134",
   "metadata": {},
   "source": [
    "Answer 9"
   ]
  },
  {
   "cell_type": "code",
   "execution_count": 3,
   "id": "0d6ec3f6",
   "metadata": {},
   "outputs": [
    {
     "name": "stdout",
     "output_type": "stream",
     "text": [
      "ineuron\n",
      "ineuron\n"
     ]
    }
   ],
   "source": [
    "for i in l:\n",
    "    if type(i)==list or type(i)==tuple or type(i)== set:\n",
    "        for j in i:\n",
    "            if j=='ineuron':\n",
    "                print(j)\n",
    "    if type(i)==dict:\n",
    "        for k,v in i.items():\n",
    "            if k=='ineuron':\n",
    "                print(k)\n",
    "            if v=='ineuron':    \n",
    "                print(v)\n",
    "    elif i=='ineuron':\n",
    "        print(i)"
   ]
  },
  {
   "cell_type": "markdown",
   "id": "a6ec5438",
   "metadata": {},
   "source": [
    "Answer 10"
   ]
  },
  {
   "cell_type": "code",
   "execution_count": 19,
   "id": "32be3b54",
   "metadata": {},
   "outputs": [
    {
     "name": "stdout",
     "output_type": "stream",
     "text": [
      "1 : 1\n",
      "2 : 2\n",
      "3 : 4\n",
      "4 : 4\n",
      "5 : 3\n",
      "6 : 3\n",
      "7 : 2\n",
      "k1 : 1\n",
      "sudh : 1\n",
      "k2 : 1\n",
      "k3 : 1\n",
      "kumar : 1\n",
      "45 : 1\n",
      "8 : 1\n",
      "23 : 1\n",
      "datascience : 1\n",
      "ineuron : 2\n"
     ]
    }
   ],
   "source": [
    "countList=[]\n",
    "for i in l:\n",
    "    if type(i)==list or type(i)==tuple or type(i)== set:\n",
    "        for j in i:\n",
    "            countList.append(j)\n",
    "    if type(i)==dict:\n",
    "        for k,v in i.items():\n",
    "            countList.append(k)\n",
    "            countList.append(v)\n",
    "for a in set(countList):\n",
    "    print(a,':',countList.count(a))          "
   ]
  },
  {
   "cell_type": "markdown",
   "id": "5f307cd3",
   "metadata": {},
   "source": [
    "Answer 11"
   ]
  },
  {
   "cell_type": "code",
   "execution_count": 3,
   "id": "b96c46fc",
   "metadata": {},
   "outputs": [
    {
     "name": "stdout",
     "output_type": "stream",
     "text": [
      "5\n"
     ]
    }
   ],
   "source": [
    "n=[]\n",
    "for i in l:\n",
    "    if type(i)==dict:\n",
    "        for j in i:\n",
    "            n.append(j)\n",
    "print(len(n))\n",
    "            \n",
    "            \n",
    "        \n",
    "        "
   ]
  },
  {
   "cell_type": "markdown",
   "id": "22ec7b60",
   "metadata": {},
   "source": [
    "Answer 12"
   ]
  },
  {
   "cell_type": "code",
   "execution_count": 5,
   "id": "ba358fb5",
   "metadata": {},
   "outputs": [
    {
     "name": "stdout",
     "output_type": "stream",
     "text": [
      "k1\n",
      "sudh\n",
      "k2\n",
      "ineuron\n",
      "k3\n",
      "kumar\n",
      "ineuron\n",
      "datascience\n"
     ]
    }
   ],
   "source": [
    "for i in l:\n",
    "    if type(i)==list or type(i)==tuple or type(i)== set:\n",
    "        for j in i:\n",
    "            if type(j)==str:\n",
    "                print(j)\n",
    "    if type(i)==dict:\n",
    "        for k,v in i.items():\n",
    "            if type(k)==str:\n",
    "                print(k)\n",
    "            if type(v)==str:\n",
    "                print(v)"
   ]
  },
  {
   "cell_type": "markdown",
   "id": "fa3695d6",
   "metadata": {},
   "source": [
    "Answer 13"
   ]
  },
  {
   "cell_type": "code",
   "execution_count": 90,
   "id": "2d30a8d1",
   "metadata": {},
   "outputs": [
    {
     "name": "stdout",
     "output_type": "stream",
     "text": [
      "1\n",
      "2\n",
      "3\n",
      "4\n",
      "2\n",
      "3\n",
      "4\n",
      "5\n",
      "6\n",
      "3\n",
      "4\n",
      "5\n",
      "6\n",
      "7\n",
      "5\n",
      "4\n",
      "45\n",
      "23\n",
      "k1\n",
      "sudh\n",
      "k2\n",
      "ineuron\n",
      "k3\n",
      "kumar\n",
      "3\n",
      "6\n",
      "7\n",
      "8\n",
      "ineuron\n",
      "datascience\n"
     ]
    }
   ],
   "source": [
    "for i in l:\n",
    "    if type(i)==list or type(i)==tuple or type(i)== set:\n",
    "        for j in i:\n",
    "            if str(j).isalnum()==True:\n",
    "                print(j)\n",
    "    if type(i)==dict:\n",
    "        for k,v in i.items():\n",
    "            if str(k).isalnum()==True:\n",
    "                print(k)\n",
    "            if str(v).isalnum()==True:\n",
    "                print(v)\n"
   ]
  },
  {
   "cell_type": "markdown",
   "id": "56d88245",
   "metadata": {},
   "source": [
    "Answer 14"
   ]
  },
  {
   "cell_type": "code",
   "execution_count": 91,
   "id": "cf671bac",
   "metadata": {},
   "outputs": [
    {
     "name": "stdout",
     "output_type": "stream",
     "text": [
      "908605071360000\n"
     ]
    }
   ],
   "source": [
    "product=1\n",
    "for i in l:\n",
    "    if type(i)==list or type(i)==tuple or type(i)== set:\n",
    "        for j in i:\n",
    "            if type(j)==int:\n",
    "                product=product*j\n",
    "    if type(i)==dict:\n",
    "        for k,v in i.items():\n",
    "            if type(k)==int or type(v)==int:\n",
    "                product=product*k\n",
    "                product=product*v                \n",
    "print(product)                \n"
   ]
  },
  {
   "cell_type": "code",
   "execution_count": 42,
   "id": "d3190b07",
   "metadata": {},
   "outputs": [
    {
     "name": "stdout",
     "output_type": "stream",
     "text": [
      "908605071360000\n"
     ]
    }
   ],
   "source": [
    "product=1\n",
    "for i in l:\n",
    "    for j in i:\n",
    "        if type(j)==int:\n",
    "            product=product*j\n",
    "    if type(i)==dict:\n",
    "        for k in i:\n",
    "            if type(i[k])==int:\n",
    "                product=product*i[k]\n",
    "print(product)                "
   ]
  },
  {
   "cell_type": "markdown",
   "id": "3b92d49d",
   "metadata": {},
   "source": [
    "Answer 15"
   ]
  },
  {
   "cell_type": "code",
   "execution_count": 49,
   "id": "503b95f9",
   "metadata": {},
   "outputs": [
    {
     "data": {
      "text/plain": [
       "[1,\n",
       " 2,\n",
       " 3,\n",
       " 4,\n",
       " 2,\n",
       " 3,\n",
       " 4,\n",
       " 5,\n",
       " 6,\n",
       " 3,\n",
       " 4,\n",
       " 5,\n",
       " 6,\n",
       " 7,\n",
       " 5,\n",
       " 4,\n",
       " 45,\n",
       " 23,\n",
       " 'k1',\n",
       " 'sudh',\n",
       " 'k2',\n",
       " 'ineuron',\n",
       " 'k3',\n",
       " 'kumar',\n",
       " 3,\n",
       " 6,\n",
       " 7,\n",
       " 8,\n",
       " 'ineuron',\n",
       " 'datascience']"
      ]
     },
     "execution_count": 49,
     "metadata": {},
     "output_type": "execute_result"
    }
   ],
   "source": [
    "flatList=[]\n",
    "for i in l:\n",
    "    if type(i)==list or type(i)==tuple or type(i)== set:\n",
    "        for j in i:\n",
    "            flatList.append(j)\n",
    "    if type(i)==dict:\n",
    "        for k,v in i.items():\n",
    "            flatList.append(k)\n",
    "            flatList.append(v)\n",
    "            \n",
    "flatList            "
   ]
  }
 ],
 "metadata": {
  "kernelspec": {
   "display_name": "Python 3 (ipykernel)",
   "language": "python",
   "name": "python3"
  },
  "language_info": {
   "codemirror_mode": {
    "name": "ipython",
    "version": 3
   },
   "file_extension": ".py",
   "mimetype": "text/x-python",
   "name": "python",
   "nbconvert_exporter": "python",
   "pygments_lexer": "ipython3",
   "version": "3.9.12"
  }
 },
 "nbformat": 4,
 "nbformat_minor": 5
}
