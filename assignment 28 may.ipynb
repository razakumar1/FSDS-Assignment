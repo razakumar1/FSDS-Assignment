{
 "cells": [
  {
   "cell_type": "markdown",
   "id": "f5586940",
   "metadata": {},
   "source": [
    "#Assignement"
   ]
  },
  {
   "cell_type": "markdown",
   "id": "2b44a6e4",
   "metadata": {},
   "source": [
    "Question Nos 1"
   ]
  },
  {
   "cell_type": "code",
   "execution_count": 29,
   "id": "69d29a0d",
   "metadata": {},
   "outputs": [
    {
     "name": "stdout",
     "output_type": "stream",
     "text": [
      "ineuron \n",
      "ineuron ineuron \n",
      "ineuron ineuron ineuron \n"
     ]
    }
   ],
   "source": [
    "n=4\n",
    "for i in range(n):\n",
    "    for j in range(i+1):\n",
    "        print('ineuron',end=' ')\n",
    "    print()\n",
    "   "
   ]
  },
  {
   "cell_type": "markdown",
   "id": "b8c128d8",
   "metadata": {},
   "source": [
    "Question Nos 2\n"
   ]
  },
  {
   "cell_type": "code",
   "execution_count": 28,
   "id": "d08ba19f",
   "metadata": {},
   "outputs": [
    {
     "name": "stdout",
     "output_type": "stream",
     "text": [
      "              ineuron \n",
      "         ineuron     ineuron \n",
      "    ineuron     ineuron     ineuron \n",
      "         ineuron     ineuron \n",
      "              ineuron \n"
     ]
    }
   ],
   "source": [
    "n=5\n",
    "for i in range(n):\n",
    "    if i<n//2:\n",
    "        for j in range(2-i):\n",
    "            print('    ',end=' ')\n",
    "        for j in range(i+1):\n",
    "            print('    ineuron',end=' ')\n",
    "        print()\n",
    "    else:\n",
    "        for j in range(i-2):\n",
    "            print('    ',end=' ')\n",
    "        for j in range(n-i):\n",
    "            print('    ineuron',end=' ')\n",
    "        print()    "
   ]
  },
  {
   "cell_type": "markdown",
   "id": "599e3364",
   "metadata": {},
   "source": [
    "Question 3"
   ]
  },
  {
   "cell_type": "code",
   "execution_count": 52,
   "id": "e0451191",
   "metadata": {},
   "outputs": [],
   "source": [
    "l=[[1,2,3,4],(2,3,4,5,6),(3,4,5,6,7),{23,4,5,45,4,4,5,45,45,4,5},{'k1':'sudh','k2':'ineuron','k3':'kumar',3:6,7:8},['ineuron','datascience']]"
   ]
  },
  {
   "cell_type": "markdown",
   "id": "1efeb43e",
   "metadata": {},
   "source": [
    "list entity"
   ]
  },
  {
   "cell_type": "code",
   "execution_count": 32,
   "id": "4be4362b",
   "metadata": {},
   "outputs": [],
   "source": [
    "NewList=[]\n",
    "for i in l:\n",
    "    if type(i)==list:\n",
    "        NewList.append(i)"
   ]
  },
  {
   "cell_type": "code",
   "execution_count": 33,
   "id": "83ba255d",
   "metadata": {},
   "outputs": [
    {
     "data": {
      "text/plain": [
       "[[1, 2, 3, 4], ['Ineuron', 'datascience']]"
      ]
     },
     "execution_count": 33,
     "metadata": {},
     "output_type": "execute_result"
    }
   ],
   "source": [
    "NewList"
   ]
  },
  {
   "cell_type": "markdown",
   "id": "dd68f9b9",
   "metadata": {},
   "source": [
    "Question 4"
   ]
  },
  {
   "cell_type": "code",
   "execution_count": 34,
   "id": "2e832121",
   "metadata": {},
   "outputs": [
    {
     "name": "stdout",
     "output_type": "stream",
     "text": [
      "{'k1': 'sudh', 'k2': 'ineuron', 'k3': 'kumar', 3: 6, 7: 8}\n"
     ]
    }
   ],
   "source": [
    "for i in l:\n",
    "    if type(i)==dict:\n",
    "        print(i)"
   ]
  },
  {
   "cell_type": "markdown",
   "id": "abd92405",
   "metadata": {},
   "source": [
    "Question 5"
   ]
  },
  {
   "cell_type": "code",
   "execution_count": 39,
   "id": "066089cf",
   "metadata": {},
   "outputs": [
    {
     "name": "stdout",
     "output_type": "stream",
     "text": [
      "(2, 3, 4, 5, 6)\n",
      "(3, 4, 5, 6, 7)\n"
     ]
    }
   ],
   "source": [
    "for i in l:\n",
    "    if type(i)==tuple:\n",
    "        print(i)"
   ]
  },
  {
   "cell_type": "markdown",
   "id": "0f6bb2bb",
   "metadata": {},
   "source": [
    "Question 6"
   ]
  },
  {
   "cell_type": "code",
   "execution_count": 40,
   "id": "a5e7dc03",
   "metadata": {},
   "outputs": [
    {
     "name": "stdout",
     "output_type": "stream",
     "text": [
      "1\n",
      "2\n",
      "3\n",
      "4\n",
      "2\n",
      "3\n",
      "4\n",
      "5\n",
      "6\n",
      "3\n",
      "4\n",
      "5\n",
      "6\n",
      "7\n",
      "5\n",
      "4\n",
      "45\n",
      "23\n",
      "3\n",
      "6\n",
      "7\n",
      "8\n"
     ]
    }
   ],
   "source": [
    "for i in l:\n",
    "    if type(i)==list or type(i)==tuple or type(i)== set:\n",
    "        for j in i:\n",
    "            if type(j)==int:\n",
    "                print(j)\n",
    "    if type(i)==dict:\n",
    "        for k,v in i.items():\n",
    "            if type(k)==int or type(v)==int:\n",
    "                print(k)\n",
    "                print(v)"
   ]
  },
  {
   "cell_type": "markdown",
   "id": "4014e712",
   "metadata": {},
   "source": [
    "Answer 7"
   ]
  },
  {
   "cell_type": "code",
   "execution_count": 43,
   "id": "93836ab2",
   "metadata": {},
   "outputs": [],
   "source": [
    "l4=[]\n",
    "for i in l:\n",
    "    if type(i)==list or type(i)==tuple or type(i)== set:\n",
    "        for j in i:\n",
    "            if type(j)==int:\n",
    "                l4.append(j)\n",
    "    if type(i)==dict:\n",
    "        for k,v in i.items():\n",
    "            if type(k)==int or type(v)==int:\n",
    "                l4.append(k)\n",
    "                l4.append(k)"
   ]
  },
  {
   "cell_type": "code",
   "execution_count": 48,
   "id": "05a7eeec",
   "metadata": {},
   "outputs": [],
   "source": [
    "total=0\n",
    "for i in range(len(l4)):\n",
    "    total= total + l4[i]\n",
    "    "
   ]
  },
  {
   "cell_type": "code",
   "execution_count": 49,
   "id": "f1642627",
   "metadata": {},
   "outputs": [
    {
     "data": {
      "text/plain": [
       "152"
      ]
     },
     "execution_count": 49,
     "metadata": {},
     "output_type": "execute_result"
    }
   ],
   "source": [
    "total"
   ]
  },
  {
   "cell_type": "markdown",
   "id": "dbe90e37",
   "metadata": {},
   "source": [
    "Answer 8"
   ]
  },
  {
   "cell_type": "code",
   "execution_count": 50,
   "id": "bb073243",
   "metadata": {},
   "outputs": [
    {
     "name": "stdout",
     "output_type": "stream",
     "text": [
      "1\n",
      "3\n"
     ]
    }
   ],
   "source": [
    "for i in l:\n",
    "    if type(i)==list:\n",
    "        for j in i:\n",
    "            if type(j)==int and j%2!=0:\n",
    "                print(j)\n",
    "   "
   ]
  },
  {
   "cell_type": "markdown",
   "id": "7c5c2134",
   "metadata": {},
   "source": [
    "Answer 9"
   ]
  },
  {
   "cell_type": "code",
   "execution_count": 54,
   "id": "0d6ec3f6",
   "metadata": {},
   "outputs": [
    {
     "name": "stdout",
     "output_type": "stream",
     "text": [
      "k2\n",
      "ineuron\n",
      "ineuron\n"
     ]
    }
   ],
   "source": [
    "for i in l:\n",
    "    if type(i)==list or type(i)==tuple or type(i)== set:\n",
    "        for j in i:\n",
    "            if j=='ineuron':\n",
    "                print(j)\n",
    "    if type(i)==dict:\n",
    "        for k,v in i.items():\n",
    "            if k=='ineuron' or v=='ineuron':\n",
    "                print(k)\n",
    "                print(v)\n",
    "    elif i=='ineuron':\n",
    "        print(i)"
   ]
  },
  {
   "cell_type": "code",
   "execution_count": null,
   "id": "afd8f23e",
   "metadata": {},
   "outputs": [],
   "source": []
  }
 ],
 "metadata": {
  "kernelspec": {
   "display_name": "Python 3 (ipykernel)",
   "language": "python",
   "name": "python3"
  },
  "language_info": {
   "codemirror_mode": {
    "name": "ipython",
    "version": 3
   },
   "file_extension": ".py",
   "mimetype": "text/x-python",
   "name": "python",
   "nbconvert_exporter": "python",
   "pygments_lexer": "ipython3",
   "version": "3.9.12"
  }
 },
 "nbformat": 4,
 "nbformat_minor": 5
}
